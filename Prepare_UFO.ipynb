{
 "cells": [
  {
   "cell_type": "code",
   "execution_count": 1,
   "metadata": {},
   "outputs": [
    {
     "name": "stderr",
     "output_type": "stream",
     "text": [
      "[nltk_data] Downloading package stopwords to\n",
      "[nltk_data]     /Users/brijeshpatel/nltk_data...\n",
      "[nltk_data]   Package stopwords is already up-to-date!\n"
     ]
    },
    {
     "ename": "ModuleNotFoundError",
     "evalue": "No module named 'geocoder'",
     "output_type": "error",
     "traceback": [
      "\u001B[0;31m---------------------------------------------------------------------------\u001B[0m",
      "\u001B[0;31mModuleNotFoundError\u001B[0m                       Traceback (most recent call last)",
      "\u001B[0;32m/var/folders/59/wt2tx7c90ng4gtl09k996wcw0000gn/T/ipykernel_5851/575913816.py\u001B[0m in \u001B[0;36m<module>\u001B[0;34m\u001B[0m\n\u001B[1;32m      9\u001B[0m \u001B[0;32mfrom\u001B[0m \u001B[0mdatetime\u001B[0m \u001B[0;32mimport\u001B[0m \u001B[0mdate\u001B[0m\u001B[0;34m\u001B[0m\u001B[0;34m\u001B[0m\u001B[0m\n\u001B[1;32m     10\u001B[0m \u001B[0;32mfrom\u001B[0m \u001B[0mdatetime\u001B[0m \u001B[0;32mimport\u001B[0m \u001B[0mdatetime\u001B[0m\u001B[0;34m\u001B[0m\u001B[0;34m\u001B[0m\u001B[0m\n\u001B[0;32m---> 11\u001B[0;31m \u001B[0;32mimport\u001B[0m \u001B[0mgeocoder\u001B[0m\u001B[0;34m\u001B[0m\u001B[0;34m\u001B[0m\u001B[0m\n\u001B[0m\u001B[1;32m     12\u001B[0m \u001B[0;34m\u001B[0m\u001B[0m\n\u001B[1;32m     13\u001B[0m \u001B[0;32mimport\u001B[0m \u001B[0mseaborn\u001B[0m \u001B[0;32mas\u001B[0m \u001B[0msns\u001B[0m\u001B[0;34m\u001B[0m\u001B[0;34m\u001B[0m\u001B[0m\n",
      "\u001B[0;31mModuleNotFoundError\u001B[0m: No module named 'geocoder'"
     ]
    }
   ],
   "source": [
    "import pandas as pd\n",
    "import nltk\n",
    "from nltk.corpus import stopwords\n",
    "import re\n",
    "\n",
    "nltk.download('stopwords')\n",
    "stopwords = set(stopwords.words('english'))\n",
    "from dateutil import parser as dateParser\n",
    "from datetime import date\n",
    "from datetime import datetime\n",
    "\n",
    "import seaborn as sns\n",
    "import matplotlib.pyplot as plt\n",
    "from scipy import stats\n",
    "import numpy as np\n",
    "\n",
    "# from timezonefinder import TimezoneFinder\n",
    "# from dateutil import tz"
   ]
  },
  {
   "cell_type": "code",
   "execution_count": null,
   "metadata": {
    "pycharm": {
     "name": "#%%\n"
    }
   },
   "outputs": [],
   "source": [
    "df = pd.read_json(\"~/Desktop/ufoReports.json\", orient=\"records\", dtype=object, convert_dates=False)\n",
    "df.info()"
   ]
  },
  {
   "cell_type": "code",
   "execution_count": null,
   "metadata": {
    "pycharm": {
     "name": "#%%\n"
    }
   },
   "outputs": [],
   "source": [
    "# There were some redundant columns so dropping it\n",
    "df = df.drop(columns=df.columns[7:13])\n",
    "df.info()"
   ]
  },
  {
   "cell_type": "code",
   "execution_count": null,
   "metadata": {
    "pycharm": {
     "name": "#%%\n"
    }
   },
   "outputs": [],
   "source": [
    "#checking for duplicates,\n",
    "duplicate_index = df[df.duplicated([\"Occurred\", \"Location\", \"Characteristics\"])].index\n",
    "print(f'number of rows={len(df)}, duplicated rows={len(duplicate_index)}')\n",
    "df = df.drop(duplicate_index)\n",
    "print(f'number of rows after deletion: {len(df)}')"
   ]
  },
  {
   "cell_type": "code",
   "execution_count": null,
   "metadata": {
    "pycharm": {
     "name": "#%%\n"
    }
   },
   "outputs": [],
   "source": [
    "# Covert date time to proper format\n",
    "# used \"(O|R|P).*\":\\s\"\\s*\\d{4} to check date formate in data\n",
    "def convertDateTime(text):\n",
    "    try:\n",
    "        # date time AM or PM if it is mentioned\n",
    "        dateTimePattern = re.compile('.*\\d{1,2}/\\d{1,2}/\\d{4} \\d{1,2}:\\d{1,2}(:\\d{1,2})? (AM|PM)?')\n",
    "        # timeZone = tz.gettz(TimezoneFinder().timezone_at(latlang))\n",
    "        stringTime = dateTimePattern.search(text).group()\n",
    "        return dateParser.parse(stringTime) if stringTime else None\n",
    "    except Exception as e:\n",
    "        return None\n",
    "\n",
    "df['TimeOfEvent'] = df.Occurred.apply(convertDateTime)\n",
    "df['ReportedTime'] = df.Reported.apply(convertDateTime)"
   ]
  },
  {
   "cell_type": "code",
   "execution_count": null,
   "metadata": {
    "pycharm": {
     "name": "#%%\n"
    }
   },
   "outputs": [],
   "source": [
    "# parse Duration to seconds\n",
    "def calculateSeconds(string):\n",
    "    try:\n",
    "        dt = date.today()\n",
    "        dt = datetime.combine(dt, datetime.min.time())\n",
    "        dn = dateParser.parse(string)\n",
    "        timeString = str(dn - dt)\n",
    "        h, m, s = map(int, timeString.split(':'))\n",
    "        return h * 3600 + m * 60 + s\n",
    "    except Exception as e:\n",
    "        return None\n",
    "\n",
    "df['DurationInSecond'] = df.Duration.apply(calculateSeconds)"
   ]
  },
  {
   "cell_type": "code",
   "execution_count": null,
   "metadata": {
    "pycharm": {
     "name": "#%%\n"
    }
   },
   "outputs": [],
   "source": [
    "# fill in missing shape value\n",
    "def fillShape(x):\n",
    "    x = x.strip()\n",
    "    if (x):\n",
    "        x = x.strip()\n",
    "        if(x.lower()==\"other\"):\n",
    "            return \"Unknown\"\n",
    "        else:\n",
    "            return x\n",
    "    else:\n",
    "        return \"Unknown\"\n",
    "\n",
    "df['Shape'] = df['Shape'].apply(fillShape)"
   ]
  },
  {
   "cell_type": "code",
   "execution_count": null,
   "metadata": {
    "pycharm": {
     "name": "#%%\n"
    }
   },
   "outputs": [],
   "source": [
    "# Remove rows for which transformation did not apply\n",
    "rbt = df.shape\n",
    "df = df.dropna(subset=[\"TimeOfEvent\",\"ReportedTime\",\"Shape\"], axis=0, how=\"any\")\n",
    "df.drop(columns=[\"Posted\",\"Occurred\",\"Reported\",\"Duration\"], axis=1 )\n",
    "rn= df.shape\n",
    "print(df.info())\n",
    "print(f\"Before:{rbt}, after:{rn}\")"
   ]
  },
  {
   "cell_type": "code",
   "execution_count": null,
   "metadata": {
    "pycharm": {
     "name": "#%%\n"
    }
   },
   "outputs": [],
   "source": [
    "# Clean Duration\n",
    "sns.boxplot(x=df['DurationInSecond'])\n",
    "plt.show()"
   ]
  },
  {
   "cell_type": "code",
   "execution_count": null,
   "metadata": {},
   "outputs": [],
   "source": [
    "# Sctter plt for duration\n",
    "fig, ax = plt.subplots(figsize=(16,8))\n",
    "ax.scatter(df['TimeOfEvent'], df['DurationInSecond'])\n",
    "ax.set_xlabel('Time when UFO appeared')\n",
    "ax.set_ylabel('Duation')\n",
    "plt.show()"
   ]
  },
  {
   "cell_type": "code",
   "execution_count": null,
   "metadata": {},
   "outputs": [],
   "source": [
    "# calculate z score to find outliers in Duration\n",
    "z = np.abs(stats.zscore(df[\"DurationInSecond\"], nan_policy='omit'))\n",
    "# as common practice, remove z where abs(z) > 3\n",
    "delete_indexes = z[z>3].index\n",
    "df = df.drop(delete_indexes, axis=0)\n",
    "\n",
    "#replace null duration with mean\n",
    "meanDuration = df['DurationInSecond'].mean()\n",
    "df['DurationInSecond'] = df['DurationInSecond'].fillna(meanDuration)\n",
    "del(df['Duration'])\n",
    "df.info()"
   ]
  },
  {
   "cell_type": "code",
   "execution_count": null,
   "metadata": {},
   "outputs": [],
   "source": [
    "fig, ax = plt.subplots(figsize=(16,8))\n",
    "ax.scatter(df['TimeOfEvent'], df['DurationInSecond'])\n",
    "ax.set_xlabel('Time when UFO appeared')\n",
    "ax.set_ylabel('Duation')\n",
    "plt.show()"
   ]
  },
  {
   "cell_type": "code",
   "execution_count": null,
   "metadata": {
    "pycharm": {
     "name": "#%%\n"
    }
   },
   "outputs": [],
   "source": [
    "# create a column to summarize characteristics or user report\n",
    "pattern = re.compile(r'\\b(' + r'|'.join(stopwords) + r')(\\b\\s*)|(\"\\\\n\")', re.IGNORECASE)\n",
    "df['Summary'] = df.Characteristics.apply(lambda x: pattern.sub('', x) if isinstance(x, str) else \"\")"
   ]
  },
  {
   "cell_type": "code",
   "execution_count": null,
   "metadata": {
    "pycharm": {
     "name": "#%%\n"
    }
   },
   "outputs": [],
   "source": [
    "# # using latitude longitude so it is easy to put on a map and find timeZone\n",
    "# def getlatlang(loc):\n",
    "#     try:\n",
    "#         location = geocoder.arcgis(loc)\n",
    "#         return location.latlng\n",
    "#     except Exception as e:\n",
    "#         print(e)\n",
    "#         return None\n",
    "# df[\"latlang\"] = df.Location.apply(lambda x: getlatlang(x) if x else None)"
   ]
  },
  {
   "cell_type": "code",
   "execution_count": null,
   "metadata": {
    "pycharm": {
     "name": "#%%\n"
    }
   },
   "outputs": [],
   "source": []
  }
 ],
 "metadata": {
  "kernelspec": {
   "display_name": "Python 3 (ipykernel)",
   "language": "python",
   "name": "python3"
  },
  "language_info": {
   "codemirror_mode": {
    "name": "ipython",
    "version": 3
   },
   "file_extension": ".py",
   "mimetype": "text/x-python",
   "name": "python",
   "nbconvert_exporter": "python",
   "pygments_lexer": "ipython3",
   "version": "3.9.7"
  }
 },
 "nbformat": 4,
 "nbformat_minor": 1
}